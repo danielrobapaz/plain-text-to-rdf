{
 "cells": [
  {
   "cell_type": "code",
   "execution_count": 16,
   "metadata": {},
   "outputs": [],
   "source": [
    "import stanza"
   ]
  },
  {
   "cell_type": "code",
   "execution_count": 17,
   "metadata": {},
   "outputs": [
    {
     "name": "stderr",
     "output_type": "stream",
     "text": [
      "Downloading https://raw.githubusercontent.com/stanfordnlp/stanza-resources/main/resources_1.8.0.json: 379kB [00:00, 4.27MB/s]                    \n",
      "2024-05-14 19:50:53 INFO: Downloaded file to C:\\Users\\danie\\stanza_resources\\resources.json\n",
      "2024-05-14 19:50:53 INFO: Downloading default packages for language: en (English) ...\n",
      "2024-05-14 19:50:54 INFO: File exists: C:\\Users\\danie\\stanza_resources\\en\\default.zip\n",
      "2024-05-14 19:50:59 INFO: Finished downloading models and saved to C:\\Users\\danie\\stanza_resources\n"
     ]
    }
   ],
   "source": [
    "stanza.download('en')"
   ]
  },
  {
   "cell_type": "code",
   "execution_count": 18,
   "metadata": {},
   "outputs": [],
   "source": [
    "plain_text = \"Daniel eats a banana in the morning.\""
   ]
  },
  {
   "cell_type": "code",
   "execution_count": 19,
   "metadata": {},
   "outputs": [
    {
     "name": "stderr",
     "output_type": "stream",
     "text": [
      "2024-05-14 19:50:59 INFO: Checking for updates to resources.json in case models have been updated.  Note: this behavior can be turned off with download_method=None or download_method=DownloadMethod.REUSE_RESOURCES\n",
      "Downloading https://raw.githubusercontent.com/stanfordnlp/stanza-resources/main/resources_1.8.0.json: 379kB [00:00, 5.12MB/s]                    \n",
      "2024-05-14 19:50:59 INFO: Downloaded file to C:\\Users\\danie\\stanza_resources\\resources.json\n",
      "2024-05-14 19:51:01 INFO: Loading these models for language: en (English):\n",
      "============================================\n",
      "| Processor    | Package                   |\n",
      "--------------------------------------------\n",
      "| tokenize     | combined                  |\n",
      "| mwt          | combined                  |\n",
      "| pos          | combined_charlm           |\n",
      "| lemma        | combined_nocharlm         |\n",
      "| constituency | ptb3-revised_charlm       |\n",
      "| depparse     | combined_charlm           |\n",
      "| sentiment    | sstplus_charlm            |\n",
      "| ner          | ontonotes-ww-multi_charlm |\n",
      "============================================\n",
      "\n",
      "2024-05-14 19:51:01 INFO: Using device: cpu\n",
      "2024-05-14 19:51:01 INFO: Loading: tokenize\n",
      "2024-05-14 19:51:01 INFO: Loading: mwt\n",
      "2024-05-14 19:51:01 INFO: Loading: pos\n",
      "2024-05-14 19:51:01 INFO: Loading: lemma\n",
      "2024-05-14 19:51:01 INFO: Loading: constituency\n",
      "2024-05-14 19:51:02 INFO: Loading: depparse\n",
      "2024-05-14 19:51:02 INFO: Loading: sentiment\n",
      "2024-05-14 19:51:02 INFO: Loading: ner\n",
      "2024-05-14 19:51:03 INFO: Done loading processors!\n"
     ]
    }
   ],
   "source": [
    "nlp = stanza.Pipeline('en')\n",
    "doc = nlp(plain_text) # holds the annotation of the entire text"
   ]
  },
  {
   "cell_type": "markdown",
   "metadata": {},
   "source": [
    "# Properties"
   ]
  },
  {
   "cell_type": "markdown",
   "metadata": {},
   "source": [
    "## Document object"
   ]
  },
  {
   "cell_type": "code",
   "execution_count": 20,
   "metadata": {},
   "outputs": [
    {
     "data": {
      "text/plain": [
       "'Daniel eats a banana in the morning.'"
      ]
     },
     "execution_count": 20,
     "metadata": {},
     "output_type": "execute_result"
    }
   ],
   "source": [
    "doc.text # raw text"
   ]
  },
  {
   "cell_type": "code",
   "execution_count": 21,
   "metadata": {},
   "outputs": [
    {
     "data": {
      "text/plain": [
       "[[\n",
       "   {\n",
       "     \"id\": 1,\n",
       "     \"text\": \"Daniel\",\n",
       "     \"lemma\": \"Daniel\",\n",
       "     \"upos\": \"PROPN\",\n",
       "     \"xpos\": \"NNP\",\n",
       "     \"feats\": \"Number=Sing\",\n",
       "     \"head\": 2,\n",
       "     \"deprel\": \"nsubj\",\n",
       "     \"start_char\": 0,\n",
       "     \"end_char\": 6,\n",
       "     \"ner\": \"S-PERSON\",\n",
       "     \"multi_ner\": [\n",
       "       \"S-PERSON\"\n",
       "     ]\n",
       "   },\n",
       "   {\n",
       "     \"id\": 2,\n",
       "     \"text\": \"eats\",\n",
       "     \"lemma\": \"eat\",\n",
       "     \"upos\": \"VERB\",\n",
       "     \"xpos\": \"VBZ\",\n",
       "     \"feats\": \"Mood=Ind|Number=Sing|Person=3|Tense=Pres|VerbForm=Fin\",\n",
       "     \"head\": 0,\n",
       "     \"deprel\": \"root\",\n",
       "     \"start_char\": 7,\n",
       "     \"end_char\": 11,\n",
       "     \"ner\": \"O\",\n",
       "     \"multi_ner\": [\n",
       "       \"O\"\n",
       "     ]\n",
       "   },\n",
       "   {\n",
       "     \"id\": 3,\n",
       "     \"text\": \"a\",\n",
       "     \"lemma\": \"a\",\n",
       "     \"upos\": \"DET\",\n",
       "     \"xpos\": \"DT\",\n",
       "     \"feats\": \"Definite=Ind|PronType=Art\",\n",
       "     \"head\": 4,\n",
       "     \"deprel\": \"det\",\n",
       "     \"start_char\": 12,\n",
       "     \"end_char\": 13,\n",
       "     \"ner\": \"O\",\n",
       "     \"multi_ner\": [\n",
       "       \"O\"\n",
       "     ]\n",
       "   },\n",
       "   {\n",
       "     \"id\": 4,\n",
       "     \"text\": \"banana\",\n",
       "     \"lemma\": \"banana\",\n",
       "     \"upos\": \"NOUN\",\n",
       "     \"xpos\": \"NN\",\n",
       "     \"feats\": \"Number=Sing\",\n",
       "     \"head\": 2,\n",
       "     \"deprel\": \"obj\",\n",
       "     \"start_char\": 14,\n",
       "     \"end_char\": 20,\n",
       "     \"ner\": \"O\",\n",
       "     \"multi_ner\": [\n",
       "       \"O\"\n",
       "     ]\n",
       "   },\n",
       "   {\n",
       "     \"id\": 5,\n",
       "     \"text\": \"in\",\n",
       "     \"lemma\": \"in\",\n",
       "     \"upos\": \"ADP\",\n",
       "     \"xpos\": \"IN\",\n",
       "     \"head\": 7,\n",
       "     \"deprel\": \"case\",\n",
       "     \"start_char\": 21,\n",
       "     \"end_char\": 23,\n",
       "     \"ner\": \"O\",\n",
       "     \"multi_ner\": [\n",
       "       \"O\"\n",
       "     ]\n",
       "   },\n",
       "   {\n",
       "     \"id\": 6,\n",
       "     \"text\": \"the\",\n",
       "     \"lemma\": \"the\",\n",
       "     \"upos\": \"DET\",\n",
       "     \"xpos\": \"DT\",\n",
       "     \"feats\": \"Definite=Def|PronType=Art\",\n",
       "     \"head\": 7,\n",
       "     \"deprel\": \"det\",\n",
       "     \"start_char\": 24,\n",
       "     \"end_char\": 27,\n",
       "     \"ner\": \"O\",\n",
       "     \"multi_ner\": [\n",
       "       \"O\"\n",
       "     ]\n",
       "   },\n",
       "   {\n",
       "     \"id\": 7,\n",
       "     \"text\": \"morning\",\n",
       "     \"lemma\": \"morning\",\n",
       "     \"upos\": \"NOUN\",\n",
       "     \"xpos\": \"NN\",\n",
       "     \"feats\": \"Number=Sing\",\n",
       "     \"head\": 2,\n",
       "     \"deprel\": \"obl\",\n",
       "     \"start_char\": 28,\n",
       "     \"end_char\": 35,\n",
       "     \"ner\": \"O\",\n",
       "     \"multi_ner\": [\n",
       "       \"O\"\n",
       "     ],\n",
       "     \"misc\": \"SpaceAfter=No\"\n",
       "   },\n",
       "   {\n",
       "     \"id\": 8,\n",
       "     \"text\": \".\",\n",
       "     \"lemma\": \".\",\n",
       "     \"upos\": \"PUNCT\",\n",
       "     \"xpos\": \".\",\n",
       "     \"head\": 2,\n",
       "     \"deprel\": \"punct\",\n",
       "     \"start_char\": 35,\n",
       "     \"end_char\": 36,\n",
       "     \"ner\": \"O\",\n",
       "     \"multi_ner\": [\n",
       "       \"O\"\n",
       "     ],\n",
       "     \"misc\": \"SpaceAfter=No\"\n",
       "   }\n",
       " ]]"
      ]
     },
     "execution_count": 21,
     "metadata": {},
     "output_type": "execute_result"
    }
   ],
   "source": [
    "doc.sentences # list of sentences in text"
   ]
  },
  {
   "cell_type": "code",
   "execution_count": 22,
   "metadata": {},
   "outputs": [
    {
     "data": {
      "text/plain": [
       "[{\n",
       "   \"text\": \"Daniel\",\n",
       "   \"type\": \"PERSON\",\n",
       "   \"start_char\": 0,\n",
       "   \"end_char\": 6\n",
       " }]"
      ]
     },
     "execution_count": 22,
     "metadata": {},
     "output_type": "execute_result"
    }
   ],
   "source": [
    "doc.entities # list of entities in the text"
   ]
  },
  {
   "cell_type": "code",
   "execution_count": 23,
   "metadata": {},
   "outputs": [
    {
     "data": {
      "text/plain": [
       "8"
      ]
     },
     "execution_count": 23,
     "metadata": {},
     "output_type": "execute_result"
    }
   ],
   "source": [
    "doc.num_tokens # number of tokens"
   ]
  },
  {
   "cell_type": "code",
   "execution_count": 24,
   "metadata": {},
   "outputs": [
    {
     "data": {
      "text/plain": [
       "8"
      ]
     },
     "execution_count": 24,
     "metadata": {},
     "output_type": "execute_result"
    }
   ],
   "source": [
    "doc.num_words # number of words"
   ]
  },
  {
   "cell_type": "markdown",
   "metadata": {},
   "source": [
    "## Sentence object"
   ]
  },
  {
   "cell_type": "code",
   "execution_count": 25,
   "metadata": {},
   "outputs": [],
   "source": [
    "sentence = doc.sentences[0]"
   ]
  },
  {
   "cell_type": "code",
   "execution_count": 26,
   "metadata": {},
   "outputs": [
    {
     "data": {
      "text/plain": [
       "[\n",
       "  [\n",
       "    {\n",
       "      \"id\": 1,\n",
       "      \"text\": \"Daniel\",\n",
       "      \"lemma\": \"Daniel\",\n",
       "      \"upos\": \"PROPN\",\n",
       "      \"xpos\": \"NNP\",\n",
       "      \"feats\": \"Number=Sing\",\n",
       "      \"head\": 2,\n",
       "      \"deprel\": \"nsubj\",\n",
       "      \"start_char\": 0,\n",
       "      \"end_char\": 6,\n",
       "      \"ner\": \"S-PERSON\",\n",
       "      \"multi_ner\": [\n",
       "        \"S-PERSON\"\n",
       "      ]\n",
       "    },\n",
       "    {\n",
       "      \"id\": 2,\n",
       "      \"text\": \"eats\",\n",
       "      \"lemma\": \"eat\",\n",
       "      \"upos\": \"VERB\",\n",
       "      \"xpos\": \"VBZ\",\n",
       "      \"feats\": \"Mood=Ind|Number=Sing|Person=3|Tense=Pres|VerbForm=Fin\",\n",
       "      \"head\": 0,\n",
       "      \"deprel\": \"root\",\n",
       "      \"start_char\": 7,\n",
       "      \"end_char\": 11,\n",
       "      \"ner\": \"O\",\n",
       "      \"multi_ner\": [\n",
       "        \"O\"\n",
       "      ]\n",
       "    },\n",
       "    {\n",
       "      \"id\": 3,\n",
       "      \"text\": \"a\",\n",
       "      \"lemma\": \"a\",\n",
       "      \"upos\": \"DET\",\n",
       "      \"xpos\": \"DT\",\n",
       "      \"feats\": \"Definite=Ind|PronType=Art\",\n",
       "      \"head\": 4,\n",
       "      \"deprel\": \"det\",\n",
       "      \"start_char\": 12,\n",
       "      \"end_char\": 13,\n",
       "      \"ner\": \"O\",\n",
       "      \"multi_ner\": [\n",
       "        \"O\"\n",
       "      ]\n",
       "    },\n",
       "    {\n",
       "      \"id\": 4,\n",
       "      \"text\": \"banana\",\n",
       "      \"lemma\": \"banana\",\n",
       "      \"upos\": \"NOUN\",\n",
       "      \"xpos\": \"NN\",\n",
       "      \"feats\": \"Number=Sing\",\n",
       "      \"head\": 2,\n",
       "      \"deprel\": \"obj\",\n",
       "      \"start_char\": 14,\n",
       "      \"end_char\": 20,\n",
       "      \"ner\": \"O\",\n",
       "      \"multi_ner\": [\n",
       "        \"O\"\n",
       "      ]\n",
       "    },\n",
       "    {\n",
       "      \"id\": 5,\n",
       "      \"text\": \"in\",\n",
       "      \"lemma\": \"in\",\n",
       "      \"upos\": \"ADP\",\n",
       "      \"xpos\": \"IN\",\n",
       "      \"head\": 7,\n",
       "      \"deprel\": \"case\",\n",
       "      \"start_char\": 21,\n",
       "      \"end_char\": 23,\n",
       "      \"ner\": \"O\",\n",
       "      \"multi_ner\": [\n",
       "        \"O\"\n",
       "      ]\n",
       "    },\n",
       "    {\n",
       "      \"id\": 6,\n",
       "      \"text\": \"the\",\n",
       "      \"lemma\": \"the\",\n",
       "      \"upos\": \"DET\",\n",
       "      \"xpos\": \"DT\",\n",
       "      \"feats\": \"Definite=Def|PronType=Art\",\n",
       "      \"head\": 7,\n",
       "      \"deprel\": \"det\",\n",
       "      \"start_char\": 24,\n",
       "      \"end_char\": 27,\n",
       "      \"ner\": \"O\",\n",
       "      \"multi_ner\": [\n",
       "        \"O\"\n",
       "      ]\n",
       "    },\n",
       "    {\n",
       "      \"id\": 7,\n",
       "      \"text\": \"morning\",\n",
       "      \"lemma\": \"morning\",\n",
       "      \"upos\": \"NOUN\",\n",
       "      \"xpos\": \"NN\",\n",
       "      \"feats\": \"Number=Sing\",\n",
       "      \"head\": 2,\n",
       "      \"deprel\": \"obl\",\n",
       "      \"start_char\": 28,\n",
       "      \"end_char\": 35,\n",
       "      \"ner\": \"O\",\n",
       "      \"multi_ner\": [\n",
       "        \"O\"\n",
       "      ],\n",
       "      \"misc\": \"SpaceAfter=No\"\n",
       "    },\n",
       "    {\n",
       "      \"id\": 8,\n",
       "      \"text\": \".\",\n",
       "      \"lemma\": \".\",\n",
       "      \"upos\": \"PUNCT\",\n",
       "      \"xpos\": \".\",\n",
       "      \"head\": 2,\n",
       "      \"deprel\": \"punct\",\n",
       "      \"start_char\": 35,\n",
       "      \"end_char\": 36,\n",
       "      \"ner\": \"O\",\n",
       "      \"multi_ner\": [\n",
       "        \"O\"\n",
       "      ],\n",
       "      \"misc\": \"SpaceAfter=No\"\n",
       "    }\n",
       "  ]\n",
       "]"
      ]
     },
     "execution_count": 26,
     "metadata": {},
     "output_type": "execute_result"
    }
   ],
   "source": [
    "sentence.doc ## pointer of the parent text of the sentent"
   ]
  },
  {
   "cell_type": "code",
   "execution_count": 27,
   "metadata": {},
   "outputs": [
    {
     "data": {
      "text/plain": [
       "({\n",
       "   \"id\": 2,\n",
       "   \"text\": \"eats\",\n",
       "   \"lemma\": \"eat\",\n",
       "   \"upos\": \"VERB\",\n",
       "   \"xpos\": \"VBZ\",\n",
       "   \"feats\": \"Mood=Ind|Number=Sing|Person=3|Tense=Pres|VerbForm=Fin\",\n",
       "   \"head\": 0,\n",
       "   \"deprel\": \"root\",\n",
       "   \"start_char\": 7,\n",
       "   \"end_char\": 11\n",
       " },\n",
       " 'nsubj',\n",
       " {\n",
       "   \"id\": 1,\n",
       "   \"text\": \"Daniel\",\n",
       "   \"lemma\": \"Daniel\",\n",
       "   \"upos\": \"PROPN\",\n",
       "   \"xpos\": \"NNP\",\n",
       "   \"feats\": \"Number=Sing\",\n",
       "   \"head\": 2,\n",
       "   \"deprel\": \"nsubj\",\n",
       "   \"start_char\": 0,\n",
       "   \"end_char\": 6\n",
       " })"
      ]
     },
     "execution_count": 27,
     "metadata": {},
     "output_type": "execute_result"
    }
   ],
   "source": [
    "sentence.dependencies[0] \n",
    "\n",
    "# Lista (Word, str, Word)"
   ]
  },
  {
   "cell_type": "code",
   "execution_count": 28,
   "metadata": {},
   "outputs": [
    {
     "data": {
      "text/plain": [
       "[[\n",
       "   {\n",
       "     \"id\": 1,\n",
       "     \"text\": \"Daniel\",\n",
       "     \"lemma\": \"Daniel\",\n",
       "     \"upos\": \"PROPN\",\n",
       "     \"xpos\": \"NNP\",\n",
       "     \"feats\": \"Number=Sing\",\n",
       "     \"head\": 2,\n",
       "     \"deprel\": \"nsubj\",\n",
       "     \"start_char\": 0,\n",
       "     \"end_char\": 6,\n",
       "     \"ner\": \"S-PERSON\",\n",
       "     \"multi_ner\": [\n",
       "       \"S-PERSON\"\n",
       "     ]\n",
       "   }\n",
       " ],\n",
       " [\n",
       "   {\n",
       "     \"id\": 2,\n",
       "     \"text\": \"eats\",\n",
       "     \"lemma\": \"eat\",\n",
       "     \"upos\": \"VERB\",\n",
       "     \"xpos\": \"VBZ\",\n",
       "     \"feats\": \"Mood=Ind|Number=Sing|Person=3|Tense=Pres|VerbForm=Fin\",\n",
       "     \"head\": 0,\n",
       "     \"deprel\": \"root\",\n",
       "     \"start_char\": 7,\n",
       "     \"end_char\": 11,\n",
       "     \"ner\": \"O\",\n",
       "     \"multi_ner\": [\n",
       "       \"O\"\n",
       "     ]\n",
       "   }\n",
       " ],\n",
       " [\n",
       "   {\n",
       "     \"id\": 3,\n",
       "     \"text\": \"a\",\n",
       "     \"lemma\": \"a\",\n",
       "     \"upos\": \"DET\",\n",
       "     \"xpos\": \"DT\",\n",
       "     \"feats\": \"Definite=Ind|PronType=Art\",\n",
       "     \"head\": 4,\n",
       "     \"deprel\": \"det\",\n",
       "     \"start_char\": 12,\n",
       "     \"end_char\": 13,\n",
       "     \"ner\": \"O\",\n",
       "     \"multi_ner\": [\n",
       "       \"O\"\n",
       "     ]\n",
       "   }\n",
       " ],\n",
       " [\n",
       "   {\n",
       "     \"id\": 4,\n",
       "     \"text\": \"banana\",\n",
       "     \"lemma\": \"banana\",\n",
       "     \"upos\": \"NOUN\",\n",
       "     \"xpos\": \"NN\",\n",
       "     \"feats\": \"Number=Sing\",\n",
       "     \"head\": 2,\n",
       "     \"deprel\": \"obj\",\n",
       "     \"start_char\": 14,\n",
       "     \"end_char\": 20,\n",
       "     \"ner\": \"O\",\n",
       "     \"multi_ner\": [\n",
       "       \"O\"\n",
       "     ]\n",
       "   }\n",
       " ],\n",
       " [\n",
       "   {\n",
       "     \"id\": 5,\n",
       "     \"text\": \"in\",\n",
       "     \"lemma\": \"in\",\n",
       "     \"upos\": \"ADP\",\n",
       "     \"xpos\": \"IN\",\n",
       "     \"head\": 7,\n",
       "     \"deprel\": \"case\",\n",
       "     \"start_char\": 21,\n",
       "     \"end_char\": 23,\n",
       "     \"ner\": \"O\",\n",
       "     \"multi_ner\": [\n",
       "       \"O\"\n",
       "     ]\n",
       "   }\n",
       " ],\n",
       " [\n",
       "   {\n",
       "     \"id\": 6,\n",
       "     \"text\": \"the\",\n",
       "     \"lemma\": \"the\",\n",
       "     \"upos\": \"DET\",\n",
       "     \"xpos\": \"DT\",\n",
       "     \"feats\": \"Definite=Def|PronType=Art\",\n",
       "     \"head\": 7,\n",
       "     \"deprel\": \"det\",\n",
       "     \"start_char\": 24,\n",
       "     \"end_char\": 27,\n",
       "     \"ner\": \"O\",\n",
       "     \"multi_ner\": [\n",
       "       \"O\"\n",
       "     ]\n",
       "   }\n",
       " ],\n",
       " [\n",
       "   {\n",
       "     \"id\": 7,\n",
       "     \"text\": \"morning\",\n",
       "     \"lemma\": \"morning\",\n",
       "     \"upos\": \"NOUN\",\n",
       "     \"xpos\": \"NN\",\n",
       "     \"feats\": \"Number=Sing\",\n",
       "     \"head\": 2,\n",
       "     \"deprel\": \"obl\",\n",
       "     \"start_char\": 28,\n",
       "     \"end_char\": 35,\n",
       "     \"ner\": \"O\",\n",
       "     \"multi_ner\": [\n",
       "       \"O\"\n",
       "     ],\n",
       "     \"misc\": \"SpaceAfter=No\"\n",
       "   }\n",
       " ],\n",
       " [\n",
       "   {\n",
       "     \"id\": 8,\n",
       "     \"text\": \".\",\n",
       "     \"lemma\": \".\",\n",
       "     \"upos\": \"PUNCT\",\n",
       "     \"xpos\": \".\",\n",
       "     \"head\": 2,\n",
       "     \"deprel\": \"punct\",\n",
       "     \"start_char\": 35,\n",
       "     \"end_char\": 36,\n",
       "     \"ner\": \"O\",\n",
       "     \"multi_ner\": [\n",
       "       \"O\"\n",
       "     ],\n",
       "     \"misc\": \"SpaceAfter=No\"\n",
       "   }\n",
       " ]]"
      ]
     },
     "execution_count": 28,
     "metadata": {},
     "output_type": "execute_result"
    }
   ],
   "source": [
    "sentence.tokens # Lista of Tokens"
   ]
  },
  {
   "cell_type": "code",
   "execution_count": 29,
   "metadata": {},
   "outputs": [
    {
     "data": {
      "text/plain": [
       "[{\n",
       "   \"id\": 1,\n",
       "   \"text\": \"Daniel\",\n",
       "   \"lemma\": \"Daniel\",\n",
       "   \"upos\": \"PROPN\",\n",
       "   \"xpos\": \"NNP\",\n",
       "   \"feats\": \"Number=Sing\",\n",
       "   \"head\": 2,\n",
       "   \"deprel\": \"nsubj\",\n",
       "   \"start_char\": 0,\n",
       "   \"end_char\": 6\n",
       " },\n",
       " {\n",
       "   \"id\": 2,\n",
       "   \"text\": \"eats\",\n",
       "   \"lemma\": \"eat\",\n",
       "   \"upos\": \"VERB\",\n",
       "   \"xpos\": \"VBZ\",\n",
       "   \"feats\": \"Mood=Ind|Number=Sing|Person=3|Tense=Pres|VerbForm=Fin\",\n",
       "   \"head\": 0,\n",
       "   \"deprel\": \"root\",\n",
       "   \"start_char\": 7,\n",
       "   \"end_char\": 11\n",
       " },\n",
       " {\n",
       "   \"id\": 3,\n",
       "   \"text\": \"a\",\n",
       "   \"lemma\": \"a\",\n",
       "   \"upos\": \"DET\",\n",
       "   \"xpos\": \"DT\",\n",
       "   \"feats\": \"Definite=Ind|PronType=Art\",\n",
       "   \"head\": 4,\n",
       "   \"deprel\": \"det\",\n",
       "   \"start_char\": 12,\n",
       "   \"end_char\": 13\n",
       " },\n",
       " {\n",
       "   \"id\": 4,\n",
       "   \"text\": \"banana\",\n",
       "   \"lemma\": \"banana\",\n",
       "   \"upos\": \"NOUN\",\n",
       "   \"xpos\": \"NN\",\n",
       "   \"feats\": \"Number=Sing\",\n",
       "   \"head\": 2,\n",
       "   \"deprel\": \"obj\",\n",
       "   \"start_char\": 14,\n",
       "   \"end_char\": 20\n",
       " },\n",
       " {\n",
       "   \"id\": 5,\n",
       "   \"text\": \"in\",\n",
       "   \"lemma\": \"in\",\n",
       "   \"upos\": \"ADP\",\n",
       "   \"xpos\": \"IN\",\n",
       "   \"head\": 7,\n",
       "   \"deprel\": \"case\",\n",
       "   \"start_char\": 21,\n",
       "   \"end_char\": 23\n",
       " },\n",
       " {\n",
       "   \"id\": 6,\n",
       "   \"text\": \"the\",\n",
       "   \"lemma\": \"the\",\n",
       "   \"upos\": \"DET\",\n",
       "   \"xpos\": \"DT\",\n",
       "   \"feats\": \"Definite=Def|PronType=Art\",\n",
       "   \"head\": 7,\n",
       "   \"deprel\": \"det\",\n",
       "   \"start_char\": 24,\n",
       "   \"end_char\": 27\n",
       " },\n",
       " {\n",
       "   \"id\": 7,\n",
       "   \"text\": \"morning\",\n",
       "   \"lemma\": \"morning\",\n",
       "   \"upos\": \"NOUN\",\n",
       "   \"xpos\": \"NN\",\n",
       "   \"feats\": \"Number=Sing\",\n",
       "   \"head\": 2,\n",
       "   \"deprel\": \"obl\",\n",
       "   \"start_char\": 28,\n",
       "   \"end_char\": 35\n",
       " },\n",
       " {\n",
       "   \"id\": 8,\n",
       "   \"text\": \".\",\n",
       "   \"lemma\": \".\",\n",
       "   \"upos\": \"PUNCT\",\n",
       "   \"xpos\": \".\",\n",
       "   \"head\": 2,\n",
       "   \"deprel\": \"punct\",\n",
       "   \"start_char\": 35,\n",
       "   \"end_char\": 36\n",
       " }]"
      ]
     },
     "execution_count": 29,
     "metadata": {},
     "output_type": "execute_result"
    }
   ],
   "source": [
    "sentence.words # List of Words"
   ]
  },
  {
   "cell_type": "markdown",
   "metadata": {},
   "source": [
    "## Constituency Parser/Parse Tree"
   ]
  },
  {
   "cell_type": "code",
   "execution_count": 37,
   "metadata": {},
   "outputs": [
    {
     "name": "stdout",
     "output_type": "stream",
     "text": [
      "ROOT\n",
      "<class 'stanza.models.constituency.parse_tree.Tree'>\n"
     ]
    }
   ],
   "source": [
    "for sentence in doc.sentences:\n",
    "    print(sentence.constituency.label)\n",
    "    print(type(sentence.constituency.children[0]))"
   ]
  }
 ],
 "metadata": {
  "kernelspec": {
   "display_name": ".venv",
   "language": "python",
   "name": "python3"
  },
  "language_info": {
   "codemirror_mode": {
    "name": "ipython",
    "version": 3
   },
   "file_extension": ".py",
   "mimetype": "text/x-python",
   "name": "python",
   "nbconvert_exporter": "python",
   "pygments_lexer": "ipython3",
   "version": "3.11.7"
  }
 },
 "nbformat": 4,
 "nbformat_minor": 2
}

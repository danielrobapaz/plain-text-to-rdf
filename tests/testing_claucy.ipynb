{
 "cells": [
  {
   "cell_type": "code",
   "execution_count": 1,
   "metadata": {},
   "outputs": [],
   "source": [
    "import spacy\n",
    "import claucy"
   ]
  },
  {
   "cell_type": "code",
   "execution_count": 3,
   "metadata": {},
   "outputs": [],
   "source": [
    "nlp = spacy.load(\"en_core_web_sm\")\n",
    "claucy.add_to_pipe(nlp)"
   ]
  },
  {
   "cell_type": "code",
   "execution_count": 5,
   "metadata": {},
   "outputs": [
    {
     "name": "stdout",
     "output_type": "stream",
     "text": [
      "[<SV, which, being chased, None, None, None, [by a cunning and agile hound]>, <SV, The quick brown fox, which was being chased by a cunning and agile hound,, jumped, None, None, None, [over the lazy dog lying near the barn]>]\n",
      "['which being chased by a cunning and agile hound']\n"
     ]
    }
   ],
   "source": [
    "doc = nlp(\"The quick brown fox, which was being chased by a cunning and agile hound, jumped over the lazy dog lying near the barn.\")\n",
    "\n",
    "print(doc._.clauses)\n",
    "# Output:\n",
    "# &lt;SV, AE, died, None, None, None, [in Princeton, in 1955]&gt;\n",
    "\n",
    "propositions = doc._.clauses[0].to_propositions(as_text=True)\n",
    "\n",
    "print(propositions)"
   ]
  }
 ],
 "metadata": {
  "kernelspec": {
   "display_name": ".venv",
   "language": "python",
   "name": "python3"
  },
  "language_info": {
   "codemirror_mode": {
    "name": "ipython",
    "version": 3
   },
   "file_extension": ".py",
   "mimetype": "text/x-python",
   "name": "python",
   "nbconvert_exporter": "python",
   "pygments_lexer": "ipython3",
   "version": "3.11.7"
  }
 },
 "nbformat": 4,
 "nbformat_minor": 2
}

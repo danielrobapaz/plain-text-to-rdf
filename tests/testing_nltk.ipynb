{
 "cells": [
  {
   "cell_type": "code",
   "execution_count": 9,
   "metadata": {},
   "outputs": [],
   "source": [
    "import nltk\n",
    "from nltk.tokenize import word_tokenize, sent_tokenize\n",
    "from nltk.tag import pos_tag\n",
    "from nltk.chunk import RegexpParser"
   ]
  },
  {
   "cell_type": "code",
   "execution_count": 10,
   "metadata": {},
   "outputs": [
    {
     "name": "stderr",
     "output_type": "stream",
     "text": [
      "[nltk_data] Downloading package punkt to\n",
      "[nltk_data]     C:\\Users\\gabri\\AppData\\Roaming\\nltk_data...\n",
      "[nltk_data]   Package punkt is already up-to-date!\n",
      "[nltk_data] Downloading package averaged_perceptron_tagger to\n",
      "[nltk_data]     C:\\Users\\gabri\\AppData\\Roaming\\nltk_data...\n",
      "[nltk_data]   Package averaged_perceptron_tagger is already up-to-\n",
      "[nltk_data]       date!\n"
     ]
    }
   ],
   "source": [
    "# Internet dice que baje esto, se pueden intentar otros modelos de nltk.\n",
    "nltk.download('punkt')\n",
    "nltk.download('averaged_perceptron_tagger')\n",
    "\n",
    "# Cualquier vaina que consegui en internet\n",
    "texto = \"The quick brown fox, which was being chased by a cunning and agile hound, jumped over the lazy dog lying near the barn.\""
   ]
  },
  {
   "cell_type": "code",
   "execution_count": 11,
   "metadata": {},
   "outputs": [
    {
     "name": "stdout",
     "output_type": "stream",
     "text": [
      "[[('The', 'DT'), ('quick', 'JJ'), ('brown', 'NN'), ('fox', 'NN'), (',', ','), ('which', 'WDT'), ('was', 'VBD'), ('being', 'VBG'), ('chased', 'VBN'), ('by', 'IN'), ('a', 'DT'), ('cunning', 'NN'), ('and', 'CC'), ('agile', 'NN'), ('hound', 'NN'), (',', ','), ('jumped', 'VBD'), ('over', 'IN'), ('the', 'DT'), ('lazy', 'JJ'), ('dog', 'NN'), ('lying', 'VBG'), ('near', 'IN'), ('the', 'DT'), ('barn', 'NN'), ('.', '.')]]\n"
     ]
    }
   ],
   "source": [
    "# Tokenizar en oraciones y palabras\n",
    "oraciones = sent_tokenize(texto)\n",
    "palabras = [word_tokenize(oracion) for oracion in oraciones]\n",
    "\n",
    "# Etiquetar las palabras\n",
    "etiquetas = [pos_tag(oracion) for oracion in palabras]\n",
    "\n",
    "print(etiquetas)"
   ]
  },
  {
   "cell_type": "code",
   "execution_count": 12,
   "metadata": {},
   "outputs": [],
   "source": [
    "# Extraer sujeto y verbo\n",
    "sujetos = []\n",
    "verbos = []\n",
    "\n",
    "\"\"\"\n",
    "NP: etiqueta regla para una frase nominal.\n",
    "{...}: Las llaves encierran las reglas para lo que constituye una frase nominal.\n",
    "<DT>?: Un determinante (como 'the', 'a', 'an') es opcional (? significa cero o uno).\n",
    "<JJ>*: Cero o más adjetivos (* significa cero o más).\n",
    "<NN|NNS|NNP|NNPS>+: Uno o más sustantivos comunes (NN), sustantivos comunes en plural (NNS), nombres propios (NNP) o nombres propios en plural (NNPS). El + significa uno o más.\n",
    "\"\"\"\n",
    "\n",
    "\n",
    "\"\"\"\n",
    "VP: Esta etiqueta indica que estamos definiendo una regla para una frase verbal.\n",
    "{...}: Las llaves encierran las reglas para lo que constituye una frase verbal.\n",
    "<VB|VBD|VBG|VBN|VBP|VBZ>: Cualquier forma de verbo. Las etiquetas posibles son:\n",
    "VB: Verbo base (por ejemplo, \"run\").\n",
    "VBD: Verbo en pasado (por ejemplo, \"ran\").\n",
    "VBG: Verbo en gerundio (por ejemplo, \"running\").\n",
    "VBN: Verbo en participio pasado (por ejemplo, \"run\" en \"has run\").\n",
    "VBP: Verbo en presente sin 's' (por ejemplo, \"run\" en \"they run\").\n",
    "VBZ: Verbo en presente con 's' (por ejemplo, \"runs\").\n",
    "\"\"\"\n",
    "\n",
    "#^^^^ Cortesia de inteligencia artificial. Se puede jugar con estos parametros segun lo que queramos.\n",
    "\n",
    "# NP (noun-phrases) frases nominales, VP (Verb-phrases) Verbos\n",
    "grammar = r\"\"\"\n",
    "    NP: {<DT>?<JJ>*<NN|NNS|NNP|NNPS>+}\n",
    "    VP: {<VB|VBD|VBG|VBN|VBP|VBZ>}\n",
    "\"\"\"\n",
    "cp = RegexpParser(grammar)\n",
    "\n",
    "# Cada palabra tokenizada tiene una etiqueta del tipo de palabra que es\n",
    "for oracion_etiquetada in etiquetas:\n",
    "\n",
    "    # Parseamos con el regexparser creado antes\n",
    "    tree = cp.parse(oracion_etiquetada)\n",
    "\n",
    "    # Se explora arbol donde se relacionan cada palabra entre si.\n",
    "    for subtree in tree.subtrees():\n",
    "\n",
    "        #Si es frase nominal\n",
    "        if subtree.label() == 'NP':\n",
    "            #Para cada palabra y su etiqueta en las hojas del subarbol\n",
    "            for word, tag in subtree.leaves():\n",
    "                #Si posee sustantivo comun, es un sujeto\n",
    "                if tag.startswith('NN'):\n",
    "                    sujetos.append(word)\n",
    "        # Si es verbo en la etiqueta\n",
    "        elif subtree.label() == 'VP':\n",
    "            #Para cada palabra y su etiqueta en las hojas del subarbol\n",
    "            for word, tag in subtree.leaves():\n",
    "                #Si posee un verbo base como etiqueta, es un verbo\n",
    "                if tag.startswith('VB'):\n",
    "                    verbos.append(word)\n"
   ]
  },
  {
   "cell_type": "code",
   "execution_count": 13,
   "metadata": {},
   "outputs": [
    {
     "name": "stdout",
     "output_type": "stream",
     "text": [
      "Sujetos: ['brown', 'fox', 'cunning', 'agile', 'hound', 'dog', 'barn']\n",
      "Verbos: ['was', 'being', 'chased', 'jumped', 'lying']\n"
     ]
    }
   ],
   "source": [
    "print(\"Sujetos:\", sujetos)\n",
    "print(\"Verbos:\", verbos)"
   ]
  }
 ],
 "metadata": {
  "kernelspec": {
   "display_name": "Python 3",
   "language": "python",
   "name": "python3"
  },
  "language_info": {
   "codemirror_mode": {
    "name": "ipython",
    "version": 3
   },
   "file_extension": ".py",
   "mimetype": "text/x-python",
   "name": "python",
   "nbconvert_exporter": "python",
   "pygments_lexer": "ipython3",
   "version": "3.11.1"
  }
 },
 "nbformat": 4,
 "nbformat_minor": 2
}
